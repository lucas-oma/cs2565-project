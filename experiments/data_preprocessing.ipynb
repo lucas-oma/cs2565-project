{
 "cells": [
  {
   "cell_type": "code",
   "execution_count": 1,
   "id": "5c11bf9d-4481-4adc-9057-626084c155f2",
   "metadata": {},
   "outputs": [],
   "source": [
    "!pip install -qq pandas kagglehub numpy scipy matplotlib scikit-learn ipykernel jupyter pytest\n",
    "!pip install -qq sentence-transformers seaborn nltk"
   ]
  },
  {
   "cell_type": "code",
   "execution_count": 2,
   "id": "1294350c-4b02-4e72-bb87-22daadbf9e4e",
   "metadata": {},
   "outputs": [],
   "source": [
    "import kagglehub\n",
    "import pandas as pd\n",
    "import os\n",
    "import numpy as np"
   ]
  },
  {
   "cell_type": "code",
   "execution_count": 3,
   "id": "4e398ec2-a347-4829-a3f5-a953d8bfe7e8",
   "metadata": {},
   "outputs": [],
   "source": [
    "# Download latest version\n",
    "path = kagglehub.dataset_download(\"arshkon/linkedin-job-postings\")\n",
    "df = pd.read_csv(os.path.join(path,\"postings.csv\"))"
   ]
  },
  {
   "cell_type": "markdown",
   "id": "d7baabe5-c1df-47cc-8987-0717b24e5ab7",
   "metadata": {},
   "source": [
    "### EDA"
   ]
  },
  {
   "cell_type": "code",
   "execution_count": 4,
   "id": "8f07faaa",
   "metadata": {},
   "outputs": [
    {
     "data": {
      "text/plain": [
       "Index(['job_id', 'company_name', 'title', 'description', 'max_salary',\n",
       "       'pay_period', 'location', 'company_id', 'views', 'med_salary',\n",
       "       'min_salary', 'formatted_work_type', 'applies', 'original_listed_time',\n",
       "       'remote_allowed', 'job_posting_url', 'application_url',\n",
       "       'application_type', 'expiry', 'closed_time',\n",
       "       'formatted_experience_level', 'skills_desc', 'listed_time',\n",
       "       'posting_domain', 'sponsored', 'work_type', 'currency',\n",
       "       'compensation_type', 'normalized_salary', 'zip_code', 'fips'],\n",
       "      dtype='object')"
      ]
     },
     "execution_count": 4,
     "metadata": {},
     "output_type": "execute_result"
    }
   ],
   "source": [
    "df.columns"
   ]
  },
  {
   "cell_type": "code",
   "execution_count": 5,
   "id": "f49d8611-de29-432c-9778-86c09abffd7d",
   "metadata": {},
   "outputs": [
    {
     "data": {
      "text/plain": [
       "(123849, 31)"
      ]
     },
     "execution_count": 5,
     "metadata": {},
     "output_type": "execute_result"
    }
   ],
   "source": [
    "df.shape"
   ]
  },
  {
   "cell_type": "code",
   "execution_count": 6,
   "id": "a5ea84d5-dd5e-427a-912d-b72e769fc031",
   "metadata": {},
   "outputs": [
    {
     "data": {
      "text/plain": [
       "location\n",
       "United States    8125\n",
       "New York, NY     2756\n",
       "Chicago, IL      1834\n",
       "Houston, TX      1762\n",
       "Dallas, TX       1383\n",
       "Name: count, dtype: int64"
      ]
     },
     "execution_count": 6,
     "metadata": {},
     "output_type": "execute_result"
    }
   ],
   "source": [
    "df[\"location\"].value_counts().head()"
   ]
  },
  {
   "cell_type": "code",
   "execution_count": 7,
   "id": "089a5ef8-420b-4ac6-b351-d59281813e5d",
   "metadata": {},
   "outputs": [],
   "source": [
    "yearly_df = df[df[\"pay_period\"] == \"YEARLY\"].shape"
   ]
  },
  {
   "cell_type": "code",
   "execution_count": 8,
   "id": "0505c110-2305-44ec-9aee-efe0d8bf95f4",
   "metadata": {},
   "outputs": [],
   "source": [
    "ny_df = df[df[\"location\"] == \"New York, NY\"].reset_index()"
   ]
  },
  {
   "cell_type": "code",
   "execution_count": 9,
   "id": "ace23c49-358c-4e35-83a3-ca4fb640e860",
   "metadata": {},
   "outputs": [
    {
     "data": {
      "text/plain": [
       "pay_period\n",
       "YEARLY     1201\n",
       "HOURLY      307\n",
       "MONTHLY       2\n",
       "WEEKLY        2\n",
       "Name: count, dtype: int64"
      ]
     },
     "execution_count": 9,
     "metadata": {},
     "output_type": "execute_result"
    }
   ],
   "source": [
    "ny_df[\"pay_period\"].value_counts().head()"
   ]
  },
  {
   "cell_type": "code",
   "execution_count": 10,
   "id": "7ef5e5bc-6424-48e8-911b-ffc8dc61bcf0",
   "metadata": {},
   "outputs": [
    {
     "data": {
      "text/plain": [
       "(2756, 32)"
      ]
     },
     "execution_count": 10,
     "metadata": {},
     "output_type": "execute_result"
    }
   ],
   "source": [
    "ny_df.shape"
   ]
  },
  {
   "cell_type": "code",
   "execution_count": 11,
   "id": "a21cfed4-fada-47bb-ae93-02245e368179",
   "metadata": {},
   "outputs": [],
   "source": [
    "us_df = df[df[\"location\"] == \"United States\"]"
   ]
  },
  {
   "cell_type": "code",
   "execution_count": 12,
   "id": "5a2340bd-1935-4be6-8b26-4237d4a90734",
   "metadata": {},
   "outputs": [
    {
     "data": {
      "text/plain": [
       "(8125, 31)"
      ]
     },
     "execution_count": 12,
     "metadata": {},
     "output_type": "execute_result"
    }
   ],
   "source": [
    "us_df.shape"
   ]
  },
  {
   "cell_type": "markdown",
   "id": "90f566f6-05f2-40d4-8dea-7f2fc97fa731",
   "metadata": {},
   "source": [
    "### Cleaning"
   ]
  },
  {
   "cell_type": "code",
   "execution_count": 13,
   "id": "9855d07c-8f3e-4c59-b16e-9e055914b753",
   "metadata": {},
   "outputs": [
    {
     "data": {
      "text/plain": [
       "['max_salary', 'med_salary', 'min_salary', 'normalized_salary']"
      ]
     },
     "execution_count": 13,
     "metadata": {},
     "output_type": "execute_result"
    }
   ],
   "source": [
    "[c for c in ny_df.columns if \"salary\" in c]"
   ]
  },
  {
   "cell_type": "code",
   "execution_count": 14,
   "id": "d8d5b4cf-753f-40ff-82e1-94e3619b75c3",
   "metadata": {},
   "outputs": [
    {
     "data": {
      "text/plain": [
       "(1371, 32)"
      ]
     },
     "execution_count": 14,
     "metadata": {},
     "output_type": "execute_result"
    }
   ],
   "source": [
    "ny_df[ny_df[\"max_salary\"].notna()].shape"
   ]
  },
  {
   "cell_type": "code",
   "execution_count": 15,
   "id": "ef03f5f2-d619-4ac0-8c58-e63f14ba5ca3",
   "metadata": {},
   "outputs": [
    {
     "data": {
      "text/plain": [
       "(1371, 32)"
      ]
     },
     "execution_count": 15,
     "metadata": {},
     "output_type": "execute_result"
    }
   ],
   "source": [
    "ny_df[ny_df[\"min_salary\"].notna()].shape"
   ]
  },
  {
   "cell_type": "code",
   "execution_count": 16,
   "id": "9a11f492-0f07-4a17-be4a-9b1070ca5b41",
   "metadata": {},
   "outputs": [
    {
     "data": {
      "text/plain": [
       "(141, 32)"
      ]
     },
     "execution_count": 16,
     "metadata": {},
     "output_type": "execute_result"
    }
   ],
   "source": [
    "ny_df[ny_df[\"med_salary\"].notna()].shape"
   ]
  },
  {
   "cell_type": "code",
   "execution_count": 17,
   "id": "ac0fbc3d-a5d7-4d6e-b937-3c0296201d90",
   "metadata": {},
   "outputs": [
    {
     "data": {
      "text/plain": [
       "(1371, 32)"
      ]
     },
     "execution_count": 17,
     "metadata": {},
     "output_type": "execute_result"
    }
   ],
   "source": [
    "ny_df[ny_df[\"max_salary\"].notna() & ny_df[\"min_salary\"].notna()].shape"
   ]
  },
  {
   "cell_type": "markdown",
   "id": "f7064a46-1376-49d9-8078-8910d16fbf7b",
   "metadata": {},
   "source": [
    "#### Drop NaN values and non USD"
   ]
  },
  {
   "cell_type": "code",
   "execution_count": 18,
   "id": "19c7858c-3c8d-42ae-9230-e4ed0865b497",
   "metadata": {},
   "outputs": [],
   "source": [
    "salary_df = df[df[\"max_salary\"].notna() & df[\"min_salary\"].notna()]"
   ]
  },
  {
   "cell_type": "code",
   "execution_count": 19,
   "id": "3c49a5a2-10f6-4e61-a126-e755ef2d9dc0",
   "metadata": {},
   "outputs": [],
   "source": [
    "salary_ny_df = ny_df[ny_df[\"max_salary\"].notna() & ny_df[\"min_salary\"].notna()]"
   ]
  },
  {
   "cell_type": "markdown",
   "id": "b369b930-e272-4fff-ab09-728a8bee2b2e",
   "metadata": {},
   "source": [
    "#### Annualize Salary"
   ]
  },
  {
   "cell_type": "code",
   "execution_count": 20,
   "id": "82d35004-5f93-4827-a1e5-d0aa22ca0457",
   "metadata": {},
   "outputs": [
    {
     "data": {
      "text/plain": [
       "pay_period\n",
       "YEARLY      19107\n",
       "HOURLY      10212\n",
       "MONTHLY       288\n",
       "WEEKLY        177\n",
       "BIWEEKLY        9\n",
       "Name: count, dtype: int64"
      ]
     },
     "execution_count": 20,
     "metadata": {},
     "output_type": "execute_result"
    }
   ],
   "source": [
    "salary_df[\"pay_period\"].value_counts()"
   ]
  },
  {
   "cell_type": "code",
   "execution_count": 21,
   "id": "33e546fd-0f83-48cd-a5dc-3b910ab53d3b",
   "metadata": {},
   "outputs": [
    {
     "data": {
      "text/plain": [
       "count    2.979300e+04\n",
       "mean     9.193942e+04\n",
       "std      7.011101e+05\n",
       "min      1.000000e+00\n",
       "25%      4.828000e+01\n",
       "50%      8.000000e+04\n",
       "75%      1.400000e+05\n",
       "max      1.200000e+08\n",
       "Name: max_salary, dtype: float64"
      ]
     },
     "execution_count": 21,
     "metadata": {},
     "output_type": "execute_result"
    }
   ],
   "source": [
    "salary_df[\"max_salary\"].describe()"
   ]
  },
  {
   "cell_type": "code",
   "execution_count": 22,
   "id": "2a144093-3787-4dc2-a02f-a1cf9c9fcaf3",
   "metadata": {},
   "outputs": [],
   "source": [
    "salary_scale = {\n",
    "    \"HOURLY\": 2080,\n",
    "    \"WEEKLY\": 52,\n",
    "    \"BIWEEKLY\": 26,\n",
    "    \"MONTHLY\":12\n",
    "}\n",
    "for period, scale in salary_scale.items():\n",
    "    salary_df.loc[salary_df['pay_period'] == period, 'max_salary'] *= scale\n",
    "    salary_df.loc[salary_df['pay_period'] == period, 'min_salary'] *= scale\n",
    "    salary_df.loc[salary_df['pay_period'] == period, 'pay_period'] = \"YEARLY\""
   ]
  },
  {
   "cell_type": "code",
   "execution_count": 23,
   "id": "9d443f5f-cf08-49df-9780-7215b68555c4",
   "metadata": {},
   "outputs": [
    {
     "data": {
      "text/plain": [
       "count    2.979300e+04\n",
       "mean     2.639483e+05\n",
       "std      6.096351e+06\n",
       "min      1.000000e+00\n",
       "25%      6.572800e+04\n",
       "50%      1.010000e+05\n",
       "75%      1.500000e+05\n",
       "max      5.720000e+08\n",
       "Name: max_salary, dtype: float64"
      ]
     },
     "execution_count": 23,
     "metadata": {},
     "output_type": "execute_result"
    }
   ],
   "source": [
    "salary_df[\"max_salary\"].describe()"
   ]
  },
  {
   "cell_type": "code",
   "execution_count": 24,
   "id": "27acc894-e437-4c53-81b0-8b5c43861ae1",
   "metadata": {},
   "outputs": [
    {
     "data": {
      "text/plain": [
       "pay_period\n",
       "YEARLY    29793\n",
       "Name: count, dtype: int64"
      ]
     },
     "execution_count": 24,
     "metadata": {},
     "output_type": "execute_result"
    }
   ],
   "source": [
    "salary_df[\"pay_period\"].value_counts()"
   ]
  },
  {
   "cell_type": "code",
   "execution_count": 25,
   "id": "170a6b3b-aeb8-4185-b0d1-c7687c7eccf4",
   "metadata": {},
   "outputs": [],
   "source": [
    "salary_df = salary_df[salary_df[\"currency\"] == 'USD']"
   ]
  },
  {
   "cell_type": "code",
   "execution_count": 26,
   "id": "5424719c-1f62-4a1f-9b60-440fb20b448d",
   "metadata": {},
   "outputs": [],
   "source": [
    "# salary_df = salary_df[[\"description\",\"max_salary\",\"min_salary\"]]\n",
    "# salary_df.columns"
   ]
  },
  {
   "cell_type": "code",
   "execution_count": 27,
   "id": "4444969b-b033-42be-a3ad-737827e11a73",
   "metadata": {},
   "outputs": [
    {
     "name": "stderr",
     "output_type": "stream",
     "text": [
      "/var/folders/v2/xp28m4jj3z7fyzyg9t6k4vhh0000gn/T/ipykernel_37196/131429457.py:5: UserWarning: Boolean Series key will be reindexed to match DataFrame index.\n",
      "  clean_df = clean_df[\n"
     ]
    },
    {
     "data": {
      "text/plain": [
       "(1371, 5)"
      ]
     },
     "execution_count": 27,
     "metadata": {},
     "output_type": "execute_result"
    }
   ],
   "source": [
    "clean_df = salary_ny_df[[\"title\", \"description\", \"location\", \"max_salary\",\"min_salary\"]]\n",
    "# clean_df = salary_df[[\"title\", \"description\", \"location\", \"max_salary\",\"min_salary\"]]\n",
    "\n",
    "# Remove rows where 'titles' or 'description' is NaN or an empty string\n",
    "clean_df = clean_df[\n",
    "    (df[\"title\"].notna()) & (df[\"title\"].str.strip() != \"\") &\n",
    "    (df[\"description\"].notna()) & (df[\"description\"].str.strip() != \"\")\n",
    "]\n",
    "\n",
    "clean_df.shape"
   ]
  },
  {
   "cell_type": "markdown",
   "id": "39059516",
   "metadata": {},
   "source": [
    "### Removing outliers"
   ]
  },
  {
   "cell_type": "code",
   "execution_count": 28,
   "id": "df46bd97",
   "metadata": {},
   "outputs": [
    {
     "data": {
      "text/plain": [
       "count    1.371000e+03\n",
       "mean     1.317075e+05\n",
       "std      1.060676e+05\n",
       "min      1.600000e+01\n",
       "25%      7.050000e+04\n",
       "50%      1.200000e+05\n",
       "75%      1.850000e+05\n",
       "max      1.500000e+06\n",
       "Name: max_salary, dtype: float64"
      ]
     },
     "execution_count": 28,
     "metadata": {},
     "output_type": "execute_result"
    }
   ],
   "source": [
    "clean_df[\"max_salary\"].describe()"
   ]
  },
  {
   "cell_type": "code",
   "execution_count": 29,
   "id": "91e57ce0",
   "metadata": {},
   "outputs": [
    {
     "data": {
      "text/plain": [
       "count      1371.000000\n",
       "mean      94278.108322\n",
       "std       66456.860146\n",
       "min          15.000000\n",
       "25%       60000.000000\n",
       "50%       90000.000000\n",
       "75%      133445.425000\n",
       "max      500000.000000\n",
       "Name: min_salary, dtype: float64"
      ]
     },
     "execution_count": 29,
     "metadata": {},
     "output_type": "execute_result"
    }
   ],
   "source": [
    "clean_df[\"min_salary\"].describe()"
   ]
  },
  {
   "cell_type": "code",
   "execution_count": 30,
   "id": "6cb0d0db",
   "metadata": {},
   "outputs": [],
   "source": [
    "# Removing outliers based on max_salary\n",
    "min_salary = 20000\n",
    "\n",
    "Q1 = clean_df[\"max_salary\"].quantile(0.25)\n",
    "Q3 = clean_df[\"max_salary\"].quantile(0.75)\n",
    "IQR = Q3 - Q1\n",
    "\n",
    "lower_bound = max(Q1 - 1.5 * IQR, min_salary)\n",
    "upper_bound = Q3 + 1.5 * IQR\n",
    "\n",
    "clean_df = clean_df[(clean_df[\"max_salary\"] >= lower_bound) & (clean_df[\"max_salary\"] <= upper_bound)]"
   ]
  },
  {
   "cell_type": "code",
   "execution_count": 31,
   "id": "940ea4f8",
   "metadata": {},
   "outputs": [],
   "source": [
    "# Removing outliers based on min_salary\n",
    "\n",
    "Q1 = clean_df[\"min_salary\"].quantile(0.25)\n",
    "Q3 = clean_df[\"min_salary\"].quantile(0.75)\n",
    "IQR = Q3 - Q1\n",
    "\n",
    "lower_bound = max(Q1 - 1.5 * IQR, min_salary)\n",
    "upper_bound = Q3 + 1.5 * IQR\n",
    "\n",
    "clean_df = clean_df[(clean_df[\"min_salary\"] >= lower_bound) & (clean_df[\"min_salary\"] <= upper_bound)]"
   ]
  },
  {
   "cell_type": "code",
   "execution_count": 32,
   "id": "4b36199a",
   "metadata": {},
   "outputs": [
    {
     "data": {
      "text/plain": [
       "(1087, 5)"
      ]
     },
     "execution_count": 32,
     "metadata": {},
     "output_type": "execute_result"
    }
   ],
   "source": [
    "clean_df.shape"
   ]
  },
  {
   "cell_type": "code",
   "execution_count": 33,
   "id": "437d200e",
   "metadata": {},
   "outputs": [
    {
     "data": {
      "image/png": "[encoded data removed]",
      "text/plain": [
       "<Figure size 800x500 with 1 Axes>"
      ]
     },
     "metadata": {},
     "output_type": "display_data"
    },
    {
     "data": {
      "image/png": "[encoded data removed]",
      "text/plain": [
       "<Figure size 800x500 with 1 Axes>"
      ]
     },
     "metadata": {},
     "output_type": "display_data"
    }
   ],
   "source": [
    "import matplotlib.pyplot as plt\n",
    "import seaborn as sns\n",
    "\n",
    "# Combined plot for max_salary\n",
    "plt.figure(figsize=(8, 5))\n",
    "sns.histplot(clean_df[\"max_salary\"], bins=20, kde=True, color='blue', label=\"Max Salary\", alpha=0.6)\n",
    "plt.title(\"Histogram and Density for Max Salary\")\n",
    "plt.xlabel(\"Salary\")\n",
    "plt.ylabel(\"Count/Density\")\n",
    "plt.legend()\n",
    "plt.show()\n",
    "\n",
    "# Combined plot for min_salary\n",
    "plt.figure(figsize=(8, 5))\n",
    "sns.histplot(clean_df[\"min_salary\"], bins=20, kde=True, color='green', label=\"Min Salary\", alpha=0.6)\n",
    "plt.title(\"Histogram and Density for Min Salary\")\n",
    "plt.xlabel(\"Salary\")\n",
    "plt.ylabel(\"Count/Density\")\n",
    "plt.legend()\n",
    "plt.show()"
   ]
  },
  {
   "cell_type": "code",
   "execution_count": 34,
   "id": "303e7efe",
   "metadata": {},
   "outputs": [
    {
     "data": {
      "text/plain": [
       "count      1087.000000\n",
       "mean     148288.106339\n",
       "std       64086.127744\n",
       "min       40000.000000\n",
       "25%       95000.000000\n",
       "50%      139597.000000\n",
       "75%      191805.000000\n",
       "max      350000.000000\n",
       "Name: max_salary, dtype: float64"
      ]
     },
     "execution_count": 34,
     "metadata": {},
     "output_type": "execute_result"
    }
   ],
   "source": [
    "clean_df[\"max_salary\"].describe()"
   ]
  },
  {
   "cell_type": "code",
   "execution_count": 35,
   "id": "eafd4fa7",
   "metadata": {},
   "outputs": [
    {
     "data": {
      "text/plain": [
       "count      1087.000000\n",
       "mean     108307.765704\n",
       "std       43810.403906\n",
       "min       25000.000000\n",
       "25%       71850.000000\n",
       "50%      100000.000000\n",
       "75%      140000.000000\n",
       "max      240000.000000\n",
       "Name: min_salary, dtype: float64"
      ]
     },
     "execution_count": 35,
     "metadata": {},
     "output_type": "execute_result"
    }
   ],
   "source": [
    "clean_df[\"min_salary\"].describe()"
   ]
  },
  {
   "cell_type": "markdown",
   "id": "2482a2ba",
   "metadata": {},
   "source": [
    "### Rounding target"
   ]
  },
  {
   "cell_type": "code",
   "execution_count": 36,
   "id": "f7f0020f",
   "metadata": {},
   "outputs": [],
   "source": [
    "# n = 5000\n",
    "\n",
    "# clean_df[\"min_salary\"] = (clean_df[\"min_salary\"] / n).round() * n\n",
    "# clean_df[\"max_salary\"] = (clean_df[\"max_salary\"] / n).round() * n\n",
    "\n",
    "# clean_df"
   ]
  },
  {
   "cell_type": "markdown",
   "id": "3b079743",
   "metadata": {},
   "source": [
    "### Encoding location"
   ]
  },
  {
   "cell_type": "code",
   "execution_count": 37,
   "id": "d6eb7e86",
   "metadata": {},
   "outputs": [],
   "source": [
    "# from sklearn.preprocessing import OneHotEncoder\n",
    "\n",
    "# unique_locations_count = clean_df[\"location\"].nunique()\n",
    "# print(unique_locations_count)\n",
    "\n",
    "# target_mean = clean_df.groupby(\"location\")[\"min_salary\"].mean()\n",
    "# clean_df[\"location_encoded\"] = clean_df[\"location\"].map(target_mean)\n",
    "\n",
    "# print(clean_df[[\"location\", \"location_encoded\"]].head())\n",
    "\n",
    "\n",
    "\n",
    "# encoder = OneHotEncoder(sparse_output=False)\n",
    "# location_encoded = encoder.fit_transform(clean_df[[\"location\"]])\n",
    "# encoded_columns = encoder.get_feature_names_out([\"location\"])\n",
    "\n",
    "# location_encoded_df = pd.DataFrame(location_encoded, columns=encoded_columns)\n",
    "# clean_df = pd.concat([clean_df.reset_index(drop=True), location_encoded_df], axis=1)\n",
    "# clean_df = clean_df.drop(columns=[\"location\"])\n"
   ]
  },
  {
   "cell_type": "markdown",
   "id": "42708e38-4c36-4fb4-964d-81ae0ddbe6c5",
   "metadata": {},
   "source": [
    "### Data Embedding"
   ]
  },
  {
   "cell_type": "code",
   "execution_count": 38,
   "id": "c1fb5542",
   "metadata": {},
   "outputs": [],
   "source": [
    "from embedding_models import sbert_embedding, bag_of_words_with_laplace, bag_of_words"
   ]
  },
  {
   "cell_type": "code",
   "execution_count": 39,
   "id": "3bbcd612",
   "metadata": {},
   "outputs": [],
   "source": [
    "titles = list(clean_df[\"title\"])\n",
    "descriptions = list(clean_df[\"description\"])\n",
    "locations = list(clean_df[\"location\"])\n",
    "\n",
    "combined_text = [\n",
    "    f\"Job title: {titles[i]}\\nJob description:{descriptions[i]}\\nLocation: {locations[i]}\" for i in range(len(titles))\n",
    "]"
   ]
  },
  {
   "cell_type": "code",
   "execution_count": 40,
   "id": "ea3e8d5f",
   "metadata": {},
   "outputs": [
    {
     "data": {
      "text/plain": [
       "(1087, 384)"
      ]
     },
     "execution_count": 40,
     "metadata": {},
     "output_type": "execute_result"
    }
   ],
   "source": [
    "# title_embedding = sbert_embedding(titles)\n",
    "# description_embedding = sbert_embedding(descriptions)\n",
    "# location_embedding = sbert_embedding(locations)\n",
    "\n",
    "# title_embedding = np.array(title_embedding)\n",
    "# description_embedding = np.array(description_embedding)\n",
    "# location_embedding = np.array(location_embedding)\n",
    "\n",
    "\n",
    "combined_embedding = np.array(\n",
    "    sbert_embedding(combined_text)\n",
    ")\n",
    "\n",
    "combined_embedding.shape"
   ]
  },
  {
   "cell_type": "code",
   "execution_count": 41,
   "id": "431774f2",
   "metadata": {},
   "outputs": [],
   "source": [
    "# title_embedding.shape"
   ]
  },
  {
   "cell_type": "code",
   "execution_count": 42,
   "id": "51c4a20b",
   "metadata": {},
   "outputs": [],
   "source": [
    "# description_embedding.shape"
   ]
  },
  {
   "cell_type": "code",
   "execution_count": 43,
   "id": "730ba486",
   "metadata": {},
   "outputs": [],
   "source": [
    "# location_embedding.shape"
   ]
  },
  {
   "cell_type": "code",
   "execution_count": 44,
   "id": "11cda1bc",
   "metadata": {},
   "outputs": [],
   "source": [
    "# title_embedding_df = pd.DataFrame(title_embedding, \n",
    "#                                   columns=[f\"title_embedding_{i}\" for i in range(title_embedding.shape[1])])\n",
    "\n",
    "# description_embedding_df = pd.DataFrame(description_embedding, \n",
    "#                                         columns=[f\"description_embedding_{i}\" for i in range(description_embedding.shape[1])])\n",
    "\n",
    "# location_embedding_df = pd.DataFrame(location_embedding, \n",
    "#                                         columns=[f\"location_embedding_{i}\" for i in range(location_embedding.shape[1])])\n",
    "\n",
    "# clean_df = pd.concat([title_embedding_df.reset_index(drop=True), \n",
    "#                       description_embedding_df.reset_index(drop=True),\n",
    "#                       location_embedding_df.reset_index(drop=True),\n",
    "#                       clean_df.reset_index(drop=True)], axis=1)"
   ]
  },
  {
   "cell_type": "code",
   "execution_count": 45,
   "id": "5d85fcee",
   "metadata": {},
   "outputs": [],
   "source": [
    "combined_embedding_df = pd.DataFrame(combined_embedding, \n",
    "                                        columns=[f\"embedding_{i}\" for i in range(combined_embedding.shape[1])])\n",
    "\n",
    "clean_df = pd.concat([combined_embedding_df.reset_index(drop=True), \n",
    "                      clean_df.reset_index(drop=True)], axis=1)"
   ]
  },
  {
   "cell_type": "code",
   "execution_count": 46,
   "id": "22dcc1b7",
   "metadata": {},
   "outputs": [
    {
     "data": {
      "text/plain": [
       "Index(['embedding_0', 'embedding_1', 'embedding_2', 'embedding_3',\n",
       "       'embedding_4', 'embedding_5', 'embedding_6', 'embedding_7',\n",
       "       'embedding_8', 'embedding_9',\n",
       "       ...\n",
       "       'embedding_376', 'embedding_377', 'embedding_378', 'embedding_379',\n",
       "       'embedding_380', 'embedding_381', 'embedding_382', 'embedding_383',\n",
       "       'max_salary', 'min_salary'],\n",
       "      dtype='object', length=386)"
      ]
     },
     "execution_count": 46,
     "metadata": {},
     "output_type": "execute_result"
    }
   ],
   "source": [
    "clean_df = clean_df.drop(columns=[\"title\", \"description\", \"location\"])\n",
    "clean_df.columns"
   ]
  },
  {
   "cell_type": "markdown",
   "id": "4160d47d",
   "metadata": {},
   "source": [
    "### Final & cleaned dataset"
   ]
  },
  {
   "cell_type": "code",
   "execution_count": 47,
   "id": "934be91b",
   "metadata": {},
   "outputs": [],
   "source": [
    "clean_df.to_csv(\"sbern_2_clean_data.csv\", index=False)"
   ]
  },
  {
   "cell_type": "markdown",
   "id": "6721b713",
   "metadata": {},
   "source": [
    "#### PCA reduced"
   ]
  },
  {
   "cell_type": "code",
   "execution_count": 48,
   "id": "1f628b9b",
   "metadata": {},
   "outputs": [],
   "source": [
    "from sklearn.decomposition import PCA\n",
    "\n",
    "X = clean_df.drop(columns=[\"max_salary\", \"min_salary\"])"
   ]
  },
  {
   "cell_type": "code",
   "execution_count": 49,
   "id": "5b578947",
   "metadata": {},
   "outputs": [],
   "source": [
    "# Normalizing\n",
    "from sklearn.feature_extraction.text import TfidfTransformer\n",
    "\n",
    "tfidf_transformer = TfidfTransformer()\n",
    "X = tfidf_transformer.fit_transform(X).toarray()\n"
   ]
  },
  {
   "cell_type": "code",
   "execution_count": 50,
   "id": "b5f6f61a",
   "metadata": {},
   "outputs": [
    {
     "name": "stdout",
     "output_type": "stream",
     "text": [
      "Original shape: (1087, 384)\n",
      "Reduced shape: (1087, 183)\n",
      "Number of components selected: 183 out of 384\n",
      "Reduced by: 52.34%\n"
     ]
    }
   ],
   "source": [
    "pca = PCA(n_components=0.95)  # Retain 80% of the cumulative variance\n",
    "\n",
    "X_pca = pca.fit_transform(X)\n",
    "\n",
    "reduction_percentage = ((X.shape[1] - pca.n_components_) / X.shape[1]) * 100\n",
    "\n",
    "\n",
    "print(\"Original shape:\", X.shape)\n",
    "print(\"Reduced shape:\", X_pca.shape)\n",
    "print(f\"Number of components selected: {pca.n_components_} out of {X.shape[1]}\")\n",
    "print(f\"Reduced by: {reduction_percentage:.2f}%\")"
   ]
  },
  {
   "cell_type": "code",
   "execution_count": 51,
   "id": "7c11ef7f",
   "metadata": {},
   "outputs": [],
   "source": [
    "X_pca_df = pd.DataFrame(X_pca, columns=[f\"PC{i+1}\" for i in range(pca.n_components_)])\n",
    "clean_pca_df = pd.concat([X_pca_df, clean_df[[\"max_salary\", \"min_salary\"]].reset_index(drop=True)], axis=1)"
   ]
  },
  {
   "cell_type": "code",
   "execution_count": 52,
   "id": "83bfb346",
   "metadata": {},
   "outputs": [],
   "source": [
    "clean_pca_df.to_csv(\"sbern_2_clean_data_PCA.csv\", index=False)"
   ]
  }
 ],
 "metadata": {
  "kernelspec": {
   "display_name": "env",
   "language": "python",
   "name": "python3"
  },
  "language_info": {
   "codemirror_mode": {
    "name": "ipython",
    "version": 3
   },
   "file_extension": ".py",
   "mimetype": "text/x-python",
   "name": "python",
   "nbconvert_exporter": "python",
   "pygments_lexer": "ipython3",
   "version": "3.10.14"
  }
 },
 "nbformat": 4,
 "nbformat_minor": 5
}
